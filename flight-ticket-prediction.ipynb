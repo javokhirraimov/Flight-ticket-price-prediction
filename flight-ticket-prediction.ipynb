{
 "cells": [
  {
   "cell_type": "code",
   "execution_count": 1,
   "id": "535aed20",
   "metadata": {
    "execution": {
     "iopub.execute_input": "2024-12-03T05:49:37.274548Z",
     "iopub.status.busy": "2024-12-03T05:49:37.273670Z",
     "iopub.status.idle": "2024-12-03T05:49:40.161748Z",
     "shell.execute_reply": "2024-12-03T05:49:40.160617Z"
    },
    "papermill": {
     "duration": 2.896497,
     "end_time": "2024-12-03T05:49:40.164331",
     "exception": false,
     "start_time": "2024-12-03T05:49:37.267834",
     "status": "completed"
    },
    "tags": []
   },
   "outputs": [],
   "source": [
    "import pandas as pd\n",
    "import numpy as np\n",
    "\n",
    "from sklearn.preprocessing import OrdinalEncoder, OneHotEncoder\n",
    "from sklearn.ensemble import RandomForestRegressor"
   ]
  },
  {
   "cell_type": "code",
   "execution_count": 2,
   "id": "c8aa2c4b",
   "metadata": {
    "execution": {
     "iopub.execute_input": "2024-12-03T05:49:40.174029Z",
     "iopub.status.busy": "2024-12-03T05:49:40.173407Z",
     "iopub.status.idle": "2024-12-03T05:49:40.272601Z",
     "shell.execute_reply": "2024-12-03T05:49:40.271450Z"
    },
    "papermill": {
     "duration": 0.106579,
     "end_time": "2024-12-03T05:49:40.275099",
     "exception": false,
     "start_time": "2024-12-03T05:49:40.168520",
     "status": "completed"
    },
    "tags": []
   },
   "outputs": [
    {
     "data": {
      "text/html": [
       "<div>\n",
       "<style scoped>\n",
       "    .dataframe tbody tr th:only-of-type {\n",
       "        vertical-align: middle;\n",
       "    }\n",
       "\n",
       "    .dataframe tbody tr th {\n",
       "        vertical-align: top;\n",
       "    }\n",
       "\n",
       "    .dataframe thead th {\n",
       "        text-align: right;\n",
       "    }\n",
       "</style>\n",
       "<table border=\"1\" class=\"dataframe\">\n",
       "  <thead>\n",
       "    <tr style=\"text-align: right;\">\n",
       "      <th></th>\n",
       "      <th>id</th>\n",
       "      <th>airline</th>\n",
       "      <th>flight</th>\n",
       "      <th>source_city</th>\n",
       "      <th>departure_time</th>\n",
       "      <th>stops</th>\n",
       "      <th>arrival_time</th>\n",
       "      <th>destination_city</th>\n",
       "      <th>class</th>\n",
       "      <th>duration</th>\n",
       "      <th>days_left</th>\n",
       "      <th>price</th>\n",
       "    </tr>\n",
       "  </thead>\n",
       "  <tbody>\n",
       "    <tr>\n",
       "      <th>0</th>\n",
       "      <td>1</td>\n",
       "      <td>Vistara</td>\n",
       "      <td>UK-810</td>\n",
       "      <td>Bangalore</td>\n",
       "      <td>Early_Morning</td>\n",
       "      <td>one</td>\n",
       "      <td>Night</td>\n",
       "      <td>Mumbai</td>\n",
       "      <td>Economy</td>\n",
       "      <td>14.25</td>\n",
       "      <td>21</td>\n",
       "      <td>7212</td>\n",
       "    </tr>\n",
       "    <tr>\n",
       "      <th>1</th>\n",
       "      <td>2</td>\n",
       "      <td>SpiceJet</td>\n",
       "      <td>SG-5094</td>\n",
       "      <td>Hyderabad</td>\n",
       "      <td>Evening</td>\n",
       "      <td>zero</td>\n",
       "      <td>Night</td>\n",
       "      <td>Kolkata</td>\n",
       "      <td>Economy</td>\n",
       "      <td>1.75</td>\n",
       "      <td>7</td>\n",
       "      <td>5292</td>\n",
       "    </tr>\n",
       "    <tr>\n",
       "      <th>2</th>\n",
       "      <td>3</td>\n",
       "      <td>Vistara</td>\n",
       "      <td>UK-846</td>\n",
       "      <td>Bangalore</td>\n",
       "      <td>Morning</td>\n",
       "      <td>one</td>\n",
       "      <td>Evening</td>\n",
       "      <td>Delhi</td>\n",
       "      <td>Business</td>\n",
       "      <td>9.58</td>\n",
       "      <td>5</td>\n",
       "      <td>60553</td>\n",
       "    </tr>\n",
       "    <tr>\n",
       "      <th>3</th>\n",
       "      <td>4</td>\n",
       "      <td>Vistara</td>\n",
       "      <td>UK-706</td>\n",
       "      <td>Kolkata</td>\n",
       "      <td>Morning</td>\n",
       "      <td>one</td>\n",
       "      <td>Evening</td>\n",
       "      <td>Hyderabad</td>\n",
       "      <td>Economy</td>\n",
       "      <td>6.75</td>\n",
       "      <td>28</td>\n",
       "      <td>5760</td>\n",
       "    </tr>\n",
       "    <tr>\n",
       "      <th>4</th>\n",
       "      <td>5</td>\n",
       "      <td>Indigo</td>\n",
       "      <td>6E-5394</td>\n",
       "      <td>Chennai</td>\n",
       "      <td>Early_Morning</td>\n",
       "      <td>zero</td>\n",
       "      <td>Morning</td>\n",
       "      <td>Mumbai</td>\n",
       "      <td>Economy</td>\n",
       "      <td>2.00</td>\n",
       "      <td>4</td>\n",
       "      <td>10712</td>\n",
       "    </tr>\n",
       "  </tbody>\n",
       "</table>\n",
       "</div>"
      ],
      "text/plain": [
       "   id   airline   flight source_city departure_time stops arrival_time  \\\n",
       "0   1   Vistara   UK-810   Bangalore  Early_Morning   one        Night   \n",
       "1   2  SpiceJet  SG-5094   Hyderabad        Evening  zero        Night   \n",
       "2   3   Vistara   UK-846   Bangalore        Morning   one      Evening   \n",
       "3   4   Vistara   UK-706     Kolkata        Morning   one      Evening   \n",
       "4   5    Indigo  6E-5394     Chennai  Early_Morning  zero      Morning   \n",
       "\n",
       "  destination_city     class  duration  days_left  price  \n",
       "0           Mumbai   Economy     14.25         21   7212  \n",
       "1          Kolkata   Economy      1.75          7   5292  \n",
       "2            Delhi  Business      9.58          5  60553  \n",
       "3        Hyderabad   Economy      6.75         28   5760  \n",
       "4           Mumbai   Economy      2.00          4  10712  "
      ]
     },
     "execution_count": 2,
     "metadata": {},
     "output_type": "execute_result"
    }
   ],
   "source": [
    "df = pd.read_csv('/kaggle/input/aviachipta-narxini-bashorat-qilish/train_data.csv')\n",
    "df.head()"
   ]
  },
  {
   "cell_type": "code",
   "execution_count": 3,
   "id": "863dd2bd",
   "metadata": {
    "execution": {
     "iopub.execute_input": "2024-12-03T05:49:40.284363Z",
     "iopub.status.busy": "2024-12-03T05:49:40.283926Z",
     "iopub.status.idle": "2024-12-03T05:49:40.291769Z",
     "shell.execute_reply": "2024-12-03T05:49:40.290606Z"
    },
    "papermill": {
     "duration": 0.015245,
     "end_time": "2024-12-03T05:49:40.294176",
     "exception": false,
     "start_time": "2024-12-03T05:49:40.278931",
     "status": "completed"
    },
    "tags": []
   },
   "outputs": [],
   "source": [
    "def prepare_df(df):\n",
    "  df[['flight_country', 'flight_nummber']]= df['flight'].str.split(\"-\", expand=True)\n",
    "  df['flight_number'] = df['flight_nummber'].astype(int)\n",
    "\n",
    "  stops = {'one': 0, 'zero': 1, 'two_or_more': 2}\n",
    "  classes = {'Economy': 0, 'Business': 1}\n",
    "  df['stops'] = df['stops'].replace(stops)\n",
    "  df['class'] = df['class'].replace(classes)\n",
    "\n",
    "  encoder = OrdinalEncoder()\n",
    "  df['flight_country'] = encoder.fit_transform(df[['flight_country']])\n",
    "\n",
    "  one_hot_encoder = ['airline', 'source_city', 'departure_time', 'arrival_time','destination_city']\n",
    "  df = pd.get_dummies(df, columns=one_hot_encoder)\n",
    "\n",
    "  df = df.replace({True: 1, False: 0})\n",
    "\n",
    "  df.drop(['id', 'flight'], axis=1, inplace=True)\n",
    "\n",
    "  return df"
   ]
  },
  {
   "cell_type": "code",
   "execution_count": 4,
   "id": "2bb46840",
   "metadata": {
    "execution": {
     "iopub.execute_input": "2024-12-03T05:49:40.303804Z",
     "iopub.status.busy": "2024-12-03T05:49:40.302950Z",
     "iopub.status.idle": "2024-12-03T05:49:40.622465Z",
     "shell.execute_reply": "2024-12-03T05:49:40.621249Z"
    },
    "papermill": {
     "duration": 0.327207,
     "end_time": "2024-12-03T05:49:40.625172",
     "exception": false,
     "start_time": "2024-12-03T05:49:40.297965",
     "status": "completed"
    },
    "tags": []
   },
   "outputs": [
    {
     "name": "stderr",
     "output_type": "stream",
     "text": [
      "/tmp/ipykernel_17/3659705708.py:7: FutureWarning: Downcasting behavior in `replace` is deprecated and will be removed in a future version. To retain the old behavior, explicitly call `result.infer_objects(copy=False)`. To opt-in to the future behavior, set `pd.set_option('future.no_silent_downcasting', True)`\n",
      "  df['stops'] = df['stops'].replace(stops)\n",
      "/tmp/ipykernel_17/3659705708.py:8: FutureWarning: Downcasting behavior in `replace` is deprecated and will be removed in a future version. To retain the old behavior, explicitly call `result.infer_objects(copy=False)`. To opt-in to the future behavior, set `pd.set_option('future.no_silent_downcasting', True)`\n",
      "  df['class'] = df['class'].replace(classes)\n",
      "/tmp/ipykernel_17/3659705708.py:16: FutureWarning: Downcasting behavior in `replace` is deprecated and will be removed in a future version. To retain the old behavior, explicitly call `result.infer_objects(copy=False)`. To opt-in to the future behavior, set `pd.set_option('future.no_silent_downcasting', True)`\n",
      "  df = df.replace({True: 1, False: 0})\n"
     ]
    }
   ],
   "source": [
    "df = prepare_df(df)"
   ]
  },
  {
   "cell_type": "code",
   "execution_count": 5,
   "id": "58b6c608",
   "metadata": {
    "execution": {
     "iopub.execute_input": "2024-12-03T05:49:40.635239Z",
     "iopub.status.busy": "2024-12-03T05:49:40.634208Z",
     "iopub.status.idle": "2024-12-03T05:49:40.641747Z",
     "shell.execute_reply": "2024-12-03T05:49:40.640468Z"
    },
    "papermill": {
     "duration": 0.014932,
     "end_time": "2024-12-03T05:49:40.643968",
     "exception": false,
     "start_time": "2024-12-03T05:49:40.629036",
     "status": "completed"
    },
    "tags": []
   },
   "outputs": [
    {
     "data": {
      "text/plain": [
       "(20000, 38)"
      ]
     },
     "execution_count": 5,
     "metadata": {},
     "output_type": "execute_result"
    }
   ],
   "source": [
    "df.head()\n",
    "df.shape"
   ]
  },
  {
   "cell_type": "markdown",
   "id": "ca06195c",
   "metadata": {
    "papermill": {
     "duration": 0.003507,
     "end_time": "2024-12-03T05:49:40.651329",
     "exception": false,
     "start_time": "2024-12-03T05:49:40.647822",
     "status": "completed"
    },
    "tags": []
   },
   "source": [
    "Preparing our X set and Y set to train# "
   ]
  },
  {
   "cell_type": "code",
   "execution_count": 6,
   "id": "2a7eb886",
   "metadata": {
    "execution": {
     "iopub.execute_input": "2024-12-03T05:49:40.660852Z",
     "iopub.status.busy": "2024-12-03T05:49:40.660081Z",
     "iopub.status.idle": "2024-12-03T05:49:40.669796Z",
     "shell.execute_reply": "2024-12-03T05:49:40.668854Z"
    },
    "papermill": {
     "duration": 0.017165,
     "end_time": "2024-12-03T05:49:40.672303",
     "exception": false,
     "start_time": "2024-12-03T05:49:40.655138",
     "status": "completed"
    },
    "tags": []
   },
   "outputs": [],
   "source": [
    "X = df.drop('price', axis=1)\n",
    "Y = df['price']"
   ]
  },
  {
   "cell_type": "code",
   "execution_count": 7,
   "id": "5d7f5e20",
   "metadata": {
    "execution": {
     "iopub.execute_input": "2024-12-03T05:49:40.683243Z",
     "iopub.status.busy": "2024-12-03T05:49:40.682772Z",
     "iopub.status.idle": "2024-12-03T05:49:52.842720Z",
     "shell.execute_reply": "2024-12-03T05:49:52.841485Z"
    },
    "papermill": {
     "duration": 12.167605,
     "end_time": "2024-12-03T05:49:52.845083",
     "exception": false,
     "start_time": "2024-12-03T05:49:40.677478",
     "status": "completed"
    },
    "tags": []
   },
   "outputs": [
    {
     "data": {
      "text/html": [
       "<style>#sk-container-id-1 {color: black;background-color: white;}#sk-container-id-1 pre{padding: 0;}#sk-container-id-1 div.sk-toggleable {background-color: white;}#sk-container-id-1 label.sk-toggleable__label {cursor: pointer;display: block;width: 100%;margin-bottom: 0;padding: 0.3em;box-sizing: border-box;text-align: center;}#sk-container-id-1 label.sk-toggleable__label-arrow:before {content: \"▸\";float: left;margin-right: 0.25em;color: #696969;}#sk-container-id-1 label.sk-toggleable__label-arrow:hover:before {color: black;}#sk-container-id-1 div.sk-estimator:hover label.sk-toggleable__label-arrow:before {color: black;}#sk-container-id-1 div.sk-toggleable__content {max-height: 0;max-width: 0;overflow: hidden;text-align: left;background-color: #f0f8ff;}#sk-container-id-1 div.sk-toggleable__content pre {margin: 0.2em;color: black;border-radius: 0.25em;background-color: #f0f8ff;}#sk-container-id-1 input.sk-toggleable__control:checked~div.sk-toggleable__content {max-height: 200px;max-width: 100%;overflow: auto;}#sk-container-id-1 input.sk-toggleable__control:checked~label.sk-toggleable__label-arrow:before {content: \"▾\";}#sk-container-id-1 div.sk-estimator input.sk-toggleable__control:checked~label.sk-toggleable__label {background-color: #d4ebff;}#sk-container-id-1 div.sk-label input.sk-toggleable__control:checked~label.sk-toggleable__label {background-color: #d4ebff;}#sk-container-id-1 input.sk-hidden--visually {border: 0;clip: rect(1px 1px 1px 1px);clip: rect(1px, 1px, 1px, 1px);height: 1px;margin: -1px;overflow: hidden;padding: 0;position: absolute;width: 1px;}#sk-container-id-1 div.sk-estimator {font-family: monospace;background-color: #f0f8ff;border: 1px dotted black;border-radius: 0.25em;box-sizing: border-box;margin-bottom: 0.5em;}#sk-container-id-1 div.sk-estimator:hover {background-color: #d4ebff;}#sk-container-id-1 div.sk-parallel-item::after {content: \"\";width: 100%;border-bottom: 1px solid gray;flex-grow: 1;}#sk-container-id-1 div.sk-label:hover label.sk-toggleable__label {background-color: #d4ebff;}#sk-container-id-1 div.sk-serial::before {content: \"\";position: absolute;border-left: 1px solid gray;box-sizing: border-box;top: 0;bottom: 0;left: 50%;z-index: 0;}#sk-container-id-1 div.sk-serial {display: flex;flex-direction: column;align-items: center;background-color: white;padding-right: 0.2em;padding-left: 0.2em;position: relative;}#sk-container-id-1 div.sk-item {position: relative;z-index: 1;}#sk-container-id-1 div.sk-parallel {display: flex;align-items: stretch;justify-content: center;background-color: white;position: relative;}#sk-container-id-1 div.sk-item::before, #sk-container-id-1 div.sk-parallel-item::before {content: \"\";position: absolute;border-left: 1px solid gray;box-sizing: border-box;top: 0;bottom: 0;left: 50%;z-index: -1;}#sk-container-id-1 div.sk-parallel-item {display: flex;flex-direction: column;z-index: 1;position: relative;background-color: white;}#sk-container-id-1 div.sk-parallel-item:first-child::after {align-self: flex-end;width: 50%;}#sk-container-id-1 div.sk-parallel-item:last-child::after {align-self: flex-start;width: 50%;}#sk-container-id-1 div.sk-parallel-item:only-child::after {width: 0;}#sk-container-id-1 div.sk-dashed-wrapped {border: 1px dashed gray;margin: 0 0.4em 0.5em 0.4em;box-sizing: border-box;padding-bottom: 0.4em;background-color: white;}#sk-container-id-1 div.sk-label label {font-family: monospace;font-weight: bold;display: inline-block;line-height: 1.2em;}#sk-container-id-1 div.sk-label-container {text-align: center;}#sk-container-id-1 div.sk-container {/* jupyter's `normalize.less` sets `[hidden] { display: none; }` but bootstrap.min.css set `[hidden] { display: none !important; }` so we also need the `!important` here to be able to override the default hidden behavior on the sphinx rendered scikit-learn.org. See: https://github.com/scikit-learn/scikit-learn/issues/21755 */display: inline-block !important;position: relative;}#sk-container-id-1 div.sk-text-repr-fallback {display: none;}</style><div id=\"sk-container-id-1\" class=\"sk-top-container\"><div class=\"sk-text-repr-fallback\"><pre>RandomForestRegressor()</pre><b>In a Jupyter environment, please rerun this cell to show the HTML representation or trust the notebook. <br />On GitHub, the HTML representation is unable to render, please try loading this page with nbviewer.org.</b></div><div class=\"sk-container\" hidden><div class=\"sk-item\"><div class=\"sk-estimator sk-toggleable\"><input class=\"sk-toggleable__control sk-hidden--visually\" id=\"sk-estimator-id-1\" type=\"checkbox\" checked><label for=\"sk-estimator-id-1\" class=\"sk-toggleable__label sk-toggleable__label-arrow\">RandomForestRegressor</label><div class=\"sk-toggleable__content\"><pre>RandomForestRegressor()</pre></div></div></div></div></div>"
      ],
      "text/plain": [
       "RandomForestRegressor()"
      ]
     },
     "execution_count": 7,
     "metadata": {},
     "output_type": "execute_result"
    }
   ],
   "source": [
    "model = RandomForestRegressor()\n",
    "model.fit(X,Y)"
   ]
  },
  {
   "cell_type": "code",
   "execution_count": 8,
   "id": "6c905b8b",
   "metadata": {
    "execution": {
     "iopub.execute_input": "2024-12-03T05:49:52.855408Z",
     "iopub.status.busy": "2024-12-03T05:49:52.854995Z",
     "iopub.status.idle": "2024-12-03T05:49:52.984712Z",
     "shell.execute_reply": "2024-12-03T05:49:52.983314Z"
    },
    "papermill": {
     "duration": 0.138561,
     "end_time": "2024-12-03T05:49:52.988081",
     "exception": false,
     "start_time": "2024-12-03T05:49:52.849520",
     "status": "completed"
    },
    "tags": []
   },
   "outputs": [
    {
     "name": "stderr",
     "output_type": "stream",
     "text": [
      "/tmp/ipykernel_17/3659705708.py:7: FutureWarning: Downcasting behavior in `replace` is deprecated and will be removed in a future version. To retain the old behavior, explicitly call `result.infer_objects(copy=False)`. To opt-in to the future behavior, set `pd.set_option('future.no_silent_downcasting', True)`\n",
      "  df['stops'] = df['stops'].replace(stops)\n",
      "/tmp/ipykernel_17/3659705708.py:8: FutureWarning: Downcasting behavior in `replace` is deprecated and will be removed in a future version. To retain the old behavior, explicitly call `result.infer_objects(copy=False)`. To opt-in to the future behavior, set `pd.set_option('future.no_silent_downcasting', True)`\n",
      "  df['class'] = df['class'].replace(classes)\n",
      "/tmp/ipykernel_17/3659705708.py:16: FutureWarning: Downcasting behavior in `replace` is deprecated and will be removed in a future version. To retain the old behavior, explicitly call `result.infer_objects(copy=False)`. To opt-in to the future behavior, set `pd.set_option('future.no_silent_downcasting', True)`\n",
      "  df = df.replace({True: 1, False: 0})\n"
     ]
    },
    {
     "data": {
      "text/html": [
       "<div>\n",
       "<style scoped>\n",
       "    .dataframe tbody tr th:only-of-type {\n",
       "        vertical-align: middle;\n",
       "    }\n",
       "\n",
       "    .dataframe tbody tr th {\n",
       "        vertical-align: top;\n",
       "    }\n",
       "\n",
       "    .dataframe thead th {\n",
       "        text-align: right;\n",
       "    }\n",
       "</style>\n",
       "<table border=\"1\" class=\"dataframe\">\n",
       "  <thead>\n",
       "    <tr style=\"text-align: right;\">\n",
       "      <th></th>\n",
       "      <th>stops</th>\n",
       "      <th>class</th>\n",
       "      <th>duration</th>\n",
       "      <th>days_left</th>\n",
       "      <th>flight_country</th>\n",
       "      <th>flight_nummber</th>\n",
       "      <th>flight_number</th>\n",
       "      <th>airline_AirAsia</th>\n",
       "      <th>airline_Air_India</th>\n",
       "      <th>airline_GO_FIRST</th>\n",
       "      <th>...</th>\n",
       "      <th>arrival_time_Evening</th>\n",
       "      <th>arrival_time_Late_Night</th>\n",
       "      <th>arrival_time_Morning</th>\n",
       "      <th>arrival_time_Night</th>\n",
       "      <th>destination_city_Bangalore</th>\n",
       "      <th>destination_city_Chennai</th>\n",
       "      <th>destination_city_Delhi</th>\n",
       "      <th>destination_city_Hyderabad</th>\n",
       "      <th>destination_city_Kolkata</th>\n",
       "      <th>destination_city_Mumbai</th>\n",
       "    </tr>\n",
       "  </thead>\n",
       "  <tbody>\n",
       "    <tr>\n",
       "      <th>0</th>\n",
       "      <td>0</td>\n",
       "      <td>1</td>\n",
       "      <td>28.25</td>\n",
       "      <td>2</td>\n",
       "      <td>1.0</td>\n",
       "      <td>765</td>\n",
       "      <td>765</td>\n",
       "      <td>0</td>\n",
       "      <td>1</td>\n",
       "      <td>0</td>\n",
       "      <td>...</td>\n",
       "      <td>0</td>\n",
       "      <td>0</td>\n",
       "      <td>0</td>\n",
       "      <td>1</td>\n",
       "      <td>0</td>\n",
       "      <td>0</td>\n",
       "      <td>1</td>\n",
       "      <td>0</td>\n",
       "      <td>0</td>\n",
       "      <td>0</td>\n",
       "    </tr>\n",
       "    <tr>\n",
       "      <th>1</th>\n",
       "      <td>0</td>\n",
       "      <td>1</td>\n",
       "      <td>13.83</td>\n",
       "      <td>34</td>\n",
       "      <td>5.0</td>\n",
       "      <td>747</td>\n",
       "      <td>747</td>\n",
       "      <td>0</td>\n",
       "      <td>0</td>\n",
       "      <td>0</td>\n",
       "      <td>...</td>\n",
       "      <td>0</td>\n",
       "      <td>0</td>\n",
       "      <td>0</td>\n",
       "      <td>1</td>\n",
       "      <td>0</td>\n",
       "      <td>0</td>\n",
       "      <td>0</td>\n",
       "      <td>0</td>\n",
       "      <td>0</td>\n",
       "      <td>1</td>\n",
       "    </tr>\n",
       "    <tr>\n",
       "      <th>2</th>\n",
       "      <td>1</td>\n",
       "      <td>1</td>\n",
       "      <td>2.00</td>\n",
       "      <td>30</td>\n",
       "      <td>1.0</td>\n",
       "      <td>570</td>\n",
       "      <td>570</td>\n",
       "      <td>0</td>\n",
       "      <td>1</td>\n",
       "      <td>0</td>\n",
       "      <td>...</td>\n",
       "      <td>0</td>\n",
       "      <td>0</td>\n",
       "      <td>0</td>\n",
       "      <td>0</td>\n",
       "      <td>0</td>\n",
       "      <td>1</td>\n",
       "      <td>0</td>\n",
       "      <td>0</td>\n",
       "      <td>0</td>\n",
       "      <td>0</td>\n",
       "    </tr>\n",
       "    <tr>\n",
       "      <th>3</th>\n",
       "      <td>0</td>\n",
       "      <td>0</td>\n",
       "      <td>5.17</td>\n",
       "      <td>26</td>\n",
       "      <td>3.0</td>\n",
       "      <td>974</td>\n",
       "      <td>974</td>\n",
       "      <td>1</td>\n",
       "      <td>0</td>\n",
       "      <td>0</td>\n",
       "      <td>...</td>\n",
       "      <td>0</td>\n",
       "      <td>1</td>\n",
       "      <td>0</td>\n",
       "      <td>0</td>\n",
       "      <td>0</td>\n",
       "      <td>0</td>\n",
       "      <td>1</td>\n",
       "      <td>0</td>\n",
       "      <td>0</td>\n",
       "      <td>0</td>\n",
       "    </tr>\n",
       "    <tr>\n",
       "      <th>4</th>\n",
       "      <td>0</td>\n",
       "      <td>0</td>\n",
       "      <td>16.33</td>\n",
       "      <td>35</td>\n",
       "      <td>1.0</td>\n",
       "      <td>770</td>\n",
       "      <td>770</td>\n",
       "      <td>0</td>\n",
       "      <td>1</td>\n",
       "      <td>0</td>\n",
       "      <td>...</td>\n",
       "      <td>0</td>\n",
       "      <td>0</td>\n",
       "      <td>0</td>\n",
       "      <td>0</td>\n",
       "      <td>0</td>\n",
       "      <td>0</td>\n",
       "      <td>0</td>\n",
       "      <td>0</td>\n",
       "      <td>0</td>\n",
       "      <td>1</td>\n",
       "    </tr>\n",
       "  </tbody>\n",
       "</table>\n",
       "<p>5 rows × 37 columns</p>\n",
       "</div>"
      ],
      "text/plain": [
       "   stops  class  duration  days_left  flight_country flight_nummber  \\\n",
       "0      0      1     28.25          2             1.0            765   \n",
       "1      0      1     13.83         34             5.0            747   \n",
       "2      1      1      2.00         30             1.0            570   \n",
       "3      0      0      5.17         26             3.0            974   \n",
       "4      0      0     16.33         35             1.0            770   \n",
       "\n",
       "   flight_number  airline_AirAsia  airline_Air_India  airline_GO_FIRST  ...  \\\n",
       "0            765                0                  1                 0  ...   \n",
       "1            747                0                  0                 0  ...   \n",
       "2            570                0                  1                 0  ...   \n",
       "3            974                1                  0                 0  ...   \n",
       "4            770                0                  1                 0  ...   \n",
       "\n",
       "   arrival_time_Evening  arrival_time_Late_Night  arrival_time_Morning  \\\n",
       "0                     0                        0                     0   \n",
       "1                     0                        0                     0   \n",
       "2                     0                        0                     0   \n",
       "3                     0                        1                     0   \n",
       "4                     0                        0                     0   \n",
       "\n",
       "   arrival_time_Night  destination_city_Bangalore  destination_city_Chennai  \\\n",
       "0                   1                           0                         0   \n",
       "1                   1                           0                         0   \n",
       "2                   0                           0                         1   \n",
       "3                   0                           0                         0   \n",
       "4                   0                           0                         0   \n",
       "\n",
       "   destination_city_Delhi  destination_city_Hyderabad  \\\n",
       "0                       1                           0   \n",
       "1                       0                           0   \n",
       "2                       0                           0   \n",
       "3                       1                           0   \n",
       "4                       0                           0   \n",
       "\n",
       "   destination_city_Kolkata  destination_city_Mumbai  \n",
       "0                         0                        0  \n",
       "1                         0                        1  \n",
       "2                         0                        0  \n",
       "3                         0                        0  \n",
       "4                         0                        1  \n",
       "\n",
       "[5 rows x 37 columns]"
      ]
     },
     "execution_count": 8,
     "metadata": {},
     "output_type": "execute_result"
    }
   ],
   "source": [
    "test = pd.read_csv('/kaggle/input/aviachipta-narxini-bashorat-qilish/test_data.csv')\n",
    "test = prepare_df(test)\n",
    "test.head()"
   ]
  },
  {
   "cell_type": "code",
   "execution_count": 9,
   "id": "ce4bd2fc",
   "metadata": {
    "execution": {
     "iopub.execute_input": "2024-12-03T05:49:52.999447Z",
     "iopub.status.busy": "2024-12-03T05:49:52.999021Z",
     "iopub.status.idle": "2024-12-03T05:49:53.176191Z",
     "shell.execute_reply": "2024-12-03T05:49:53.174831Z"
    },
    "papermill": {
     "duration": 0.186095,
     "end_time": "2024-12-03T05:49:53.179168",
     "exception": false,
     "start_time": "2024-12-03T05:49:52.993073",
     "status": "completed"
    },
    "tags": []
   },
   "outputs": [],
   "source": [
    "predictions = model.predict(test)"
   ]
  },
  {
   "cell_type": "code",
   "execution_count": 10,
   "id": "816d8fc4",
   "metadata": {
    "execution": {
     "iopub.execute_input": "2024-12-03T05:49:53.190342Z",
     "iopub.status.busy": "2024-12-03T05:49:53.189913Z",
     "iopub.status.idle": "2024-12-03T05:49:53.206286Z",
     "shell.execute_reply": "2024-12-03T05:49:53.205181Z"
    },
    "papermill": {
     "duration": 0.025121,
     "end_time": "2024-12-03T05:49:53.208980",
     "exception": false,
     "start_time": "2024-12-03T05:49:53.183859",
     "status": "completed"
    },
    "tags": []
   },
   "outputs": [],
   "source": [
    "submission = pd.DataFrame({'id': range(len(predictions)), 'price': predictions})\n",
    "submission.to_csv('submission.csv', index=False)"
   ]
  },
  {
   "cell_type": "code",
   "execution_count": 11,
   "id": "983f59b2",
   "metadata": {
    "execution": {
     "iopub.execute_input": "2024-12-03T05:49:53.221187Z",
     "iopub.status.busy": "2024-12-03T05:49:53.220290Z",
     "iopub.status.idle": "2024-12-03T05:49:53.243179Z",
     "shell.execute_reply": "2024-12-03T05:49:53.242126Z"
    },
    "papermill": {
     "duration": 0.031953,
     "end_time": "2024-12-03T05:49:53.246113",
     "exception": false,
     "start_time": "2024-12-03T05:49:53.214160",
     "status": "completed"
    },
    "tags": []
   },
   "outputs": [],
   "source": [
    "submission = pd.read_csv('/kaggle/input/aviachipta-narxini-bashorat-qilish/sample_solution.csv')\n",
    "submission.price = predictions\n",
    "submission.to_csv('submission.csv', index=False)"
   ]
  },
  {
   "cell_type": "code",
   "execution_count": 12,
   "id": "6f4dd51b",
   "metadata": {
    "execution": {
     "iopub.execute_input": "2024-12-03T05:49:53.257745Z",
     "iopub.status.busy": "2024-12-03T05:49:53.256702Z",
     "iopub.status.idle": "2024-12-03T05:49:53.270950Z",
     "shell.execute_reply": "2024-12-03T05:49:53.269833Z"
    },
    "papermill": {
     "duration": 0.022743,
     "end_time": "2024-12-03T05:49:53.273487",
     "exception": false,
     "start_time": "2024-12-03T05:49:53.250744",
     "status": "completed"
    },
    "tags": []
   },
   "outputs": [
    {
     "data": {
      "text/html": [
       "<div>\n",
       "<style scoped>\n",
       "    .dataframe tbody tr th:only-of-type {\n",
       "        vertical-align: middle;\n",
       "    }\n",
       "\n",
       "    .dataframe tbody tr th {\n",
       "        vertical-align: top;\n",
       "    }\n",
       "\n",
       "    .dataframe thead th {\n",
       "        text-align: right;\n",
       "    }\n",
       "</style>\n",
       "<table border=\"1\" class=\"dataframe\">\n",
       "  <thead>\n",
       "    <tr style=\"text-align: right;\">\n",
       "      <th></th>\n",
       "      <th>id</th>\n",
       "      <th>price</th>\n",
       "    </tr>\n",
       "  </thead>\n",
       "  <tbody>\n",
       "    <tr>\n",
       "      <th>0</th>\n",
       "      <td>1</td>\n",
       "      <td>55798.56</td>\n",
       "    </tr>\n",
       "    <tr>\n",
       "      <th>1</th>\n",
       "      <td>2</td>\n",
       "      <td>63793.52</td>\n",
       "    </tr>\n",
       "    <tr>\n",
       "      <th>2</th>\n",
       "      <td>3</td>\n",
       "      <td>23399.44</td>\n",
       "    </tr>\n",
       "    <tr>\n",
       "      <th>3</th>\n",
       "      <td>4</td>\n",
       "      <td>2503.30</td>\n",
       "    </tr>\n",
       "    <tr>\n",
       "      <th>4</th>\n",
       "      <td>5</td>\n",
       "      <td>5665.10</td>\n",
       "    </tr>\n",
       "  </tbody>\n",
       "</table>\n",
       "</div>"
      ],
      "text/plain": [
       "   id     price\n",
       "0   1  55798.56\n",
       "1   2  63793.52\n",
       "2   3  23399.44\n",
       "3   4   2503.30\n",
       "4   5   5665.10"
      ]
     },
     "execution_count": 12,
     "metadata": {},
     "output_type": "execute_result"
    }
   ],
   "source": [
    "pd.read_csv('/kaggle/working/submission.csv').head()\n",
    "\n"
   ]
  }
 ],
 "metadata": {
  "kaggle": {
   "accelerator": "none",
   "dataSources": [
    {
     "databundleVersionId": 3619833,
     "sourceId": 36503,
     "sourceType": "competition"
    }
   ],
   "dockerImageVersionId": 30804,
   "isGpuEnabled": false,
   "isInternetEnabled": false,
   "language": "python",
   "sourceType": "notebook"
  },
  "kernelspec": {
   "display_name": "Python 3",
   "language": "python",
   "name": "python3"
  },
  "language_info": {
   "codemirror_mode": {
    "name": "ipython",
    "version": 3
   },
   "file_extension": ".py",
   "mimetype": "text/x-python",
   "name": "python",
   "nbconvert_exporter": "python",
   "pygments_lexer": "ipython3",
   "version": "3.10.14"
  },
  "papermill": {
   "default_parameters": {},
   "duration": 19.639588,
   "end_time": "2024-12-03T05:49:54.000670",
   "environment_variables": {},
   "exception": null,
   "input_path": "__notebook__.ipynb",
   "output_path": "__notebook__.ipynb",
   "parameters": {},
   "start_time": "2024-12-03T05:49:34.361082",
   "version": "2.6.0"
  }
 },
 "nbformat": 4,
 "nbformat_minor": 5
}
